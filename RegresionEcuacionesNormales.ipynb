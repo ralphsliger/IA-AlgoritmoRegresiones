{
 "cells": [
  {
   "cell_type": "code",
   "execution_count": 22,
   "metadata": {},
   "outputs": [],
   "source": [
    "import numpy as np\n",
    "import numpy.linalg as linalg\n",
    "import pandas as pd\n",
    "from sklearn.model_selection import train_test_split\n",
    "import matplotlib.pyplot as plt\n",
    "from sklearn.metrics import mean_squared_error\n",
    "from math import sqrt\n",
    "\n"
   ]
  },
  {
   "cell_type": "code",
   "execution_count": 23,
   "metadata": {},
   "outputs": [],
   "source": [
    "def error_cuadratico(X,y):\n",
    "    theta = (np.linalg.inv(X.T @ X) @ X.T @ y)\n",
    "    return theta\n",
    "\n",
    "def error_cuadratico_medio(y,ytrain):\n",
    "    rms = mean_squared_error(y, ytrain)\n",
    "    return rms\n"
   ]
  },
  {
   "cell_type": "code",
   "execution_count": 24,
   "metadata": {},
   "outputs": [],
   "source": [
    "data = pd.read_csv('datos.csv',sep=';')"
   ]
  },
  {
   "cell_type": "code",
   "execution_count": 25,
   "metadata": {},
   "outputs": [],
   "source": [
    "X = data.iloc[:,0:2]  #selecciono edad y temperatura\n",
    "ones = np.ones([X.shape[0],1]) #columnas de unos\n",
    "X = np.concatenate((ones,X),axis=1) #uno la matriz de unos con X\n",
    "\n",
    "y = data.iloc[:,2:3].values #variable dependiente\n",
    "theta = np.zeros([1,3])\n"
   ]
  },
  {
   "cell_type": "code",
   "execution_count": 26,
   "metadata": {},
   "outputs": [],
   "source": [
    "#separando datos por entrenamiento y test\n",
    "\n",
    "xtrain, xtest, ytrain, ytest = train_test_split(X, y, test_size=0.30)   #70%"
   ]
  },
  {
   "cell_type": "code",
   "execution_count": 27,
   "metadata": {},
   "outputs": [
    {
     "name": "stdout",
     "output_type": "stream",
     "text": [
      "\n",
      "los betas de regresion son:  [[3904.26601675]\n",
      " [  26.24068177]\n",
      " [-106.41363636]]\n",
      "\n",
      "los betas de test son:  [[5381.26796524]\n",
      " [  24.90568693]\n",
      " [-160.41291875]]\n",
      "\n",
      "los betas de train son:  [[2611.32383952]\n",
      " [  28.45908457]\n",
      " [ -62.69552593]]\n"
     ]
    }
   ],
   "source": [
    "regresion = error_cuadratico(X,y)\n",
    "print(\"\\nlos betas de regresion son: \",regresion)\n",
    "\n",
    "regresion_test = error_cuadratico(xtest,ytest)\n",
    "print(\"\\nlos betas de test son: \", regresion_test)\n",
    "\n",
    "\n",
    "regresion_train = error_cuadratico(xtrain,ytrain)\n",
    "print(\"\\nlos betas de train son: \",regresion_train)\n"
   ]
  },
  {
   "cell_type": "code",
   "execution_count": 28,
   "metadata": {},
   "outputs": [
    {
     "name": "stdout",
     "output_type": "stream",
     "text": [
      "\n",
      "error cuadratico medio es para entrenamiento:  728150.8201788558\n",
      "\n",
      "error cuadratico medio train es:  [[0.66879823]]\n"
     ]
    }
   ],
   "source": [
    "###error cuadratico medio\n",
    "\n",
    "eregresion = error_cuadratico_medio(regresion,regresion_test)\n",
    "print(\"\\nerror cuadratico medio es para entrenamiento: \",eregresion)\n",
    "\n",
    "\n",
    "\n",
    "eregresion_train = error_cuadratico(regresion,regresion_train)\n",
    "print(\"\\nerror cuadratico medio train es: \",eregresion_train)\n"
   ]
  },
  {
   "cell_type": "code",
   "execution_count": 29,
   "metadata": {},
   "outputs": [
    {
     "data": {
      "text/plain": [
       "<matplotlib.axes._subplots.AxesSubplot at 0x1a218e3588>"
      ]
     },
     "execution_count": 29,
     "metadata": {},
     "output_type": "execute_result"
    },
    {
     "data": {
      "image/png": "[encoded data removed]",
      "text/plain": [
       "<Figure size 432x288 with 1 Axes>"
      ]
     },
     "metadata": {
      "needs_background": "light"
     },
     "output_type": "display_data"
    }
   ],
   "source": [
    "##comparacion beta sin entrenar con beta entrenado\n",
    "\n",
    "import seaborn as sns\n",
    "\n",
    "ax1 = sns.distplot(regresion, hist=False, color=\"r\", label=\"Beta\")\n",
    "sns.distplot(regresion_train, hist=False, color=\"b\", label=\"Train Beta \" , ax=ax1)"
   ]
  },
  {
   "cell_type": "code",
   "execution_count": null,
   "metadata": {},
   "outputs": [],
   "source": []
  },
  {
   "cell_type": "code",
   "execution_count": null,
   "metadata": {},
   "outputs": [],
   "source": []
  },
  {
   "cell_type": "code",
   "execution_count": null,
   "metadata": {},
   "outputs": [],
   "source": []
  }
 ],
 "metadata": {
  "kernelspec": {
   "display_name": "Python 3",
   "language": "python",
   "name": "python3"
  },
  "language_info": {
   "codemirror_mode": {
    "name": "ipython",
    "version": 3
   },
   "file_extension": ".py",
   "mimetype": "text/x-python",
   "name": "python",
   "nbconvert_exporter": "python",
   "pygments_lexer": "ipython3",
   "version": "3.7.3"
  }
 },
 "nbformat": 4,
 "nbformat_minor": 2
}
