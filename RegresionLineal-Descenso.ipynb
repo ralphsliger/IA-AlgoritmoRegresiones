{
 "cells": [
  {
   "cell_type": "markdown",
   "metadata": {},
   "source": [
    "# Descripción del conjunto de datos:\n",
    "\n",
    "Columna 1: Edad en días de un pez.\n",
    "\n",
    "Columna 2: Temperatura del agua en grados Celsius.\n",
    "\n",
    "Columna 3 (Salida): Largo del pez\n",
    "\n",
    "Nro de ejemplos: 44.\n",
    "\n",
    "Tarea\n",
    "\n",
    "    Objetivo: Crear un modelo para predecir el largo de un pez a partir de su edad y la temperatura del agua.\n",
    "    Utilice el algoritmo de regresión lineal (Gradiente descendente) para esta tarea . \n",
    "    Utilice el 70% de los datos para entrenamiento y el 30% restante para evaluación.\n",
    "    Cómo métrica de rendimiento utilice el Error cuadrático medio."
   ]
  },
  {
   "cell_type": "code",
   "execution_count": 17,
   "metadata": {},
   "outputs": [],
   "source": [
    "import numpy as np\n",
    "import pandas as pd\n",
    "import matplotlib.pyplot as plt\n",
    "from sklearn.metrics import mean_squared_error\n",
    "from math import sqrt\n",
    "from sklearn.model_selection import train_test_split"
   ]
  },
  {
   "cell_type": "code",
   "execution_count": 23,
   "metadata": {},
   "outputs": [],
   "source": [
    "\n",
    "#Funciones ---------------\n",
    "\n",
    "def error_cuadratico_medio(y,ytrain):\n",
    "    rms = (mean_squared_error(y, ytrain))\n",
    "    return rms\n",
    "\n",
    "#funcion costo\n",
    "def fCosto(X,y,theta):\n",
    "    suma = np.power(((X @ theta.T)-y),2)\n",
    "    return np.sum(suma)/(2 * len(X))\n",
    "\n",
    "#gradiente descente (funcion que minimiza el costo)\n",
    "def gradienteDescendente(X,y,theta,iters,alpha):\n",
    "    costo = np.zeros(iters)\n",
    "    for i in range(iters):\n",
    "        theta = theta - (alpha/len(X)) * np.sum(X * (X @ theta.T - y), axis=0)\n",
    "        costo[i] = fCosto(X, y, theta)\n",
    "    \n",
    "    return theta,costo\n",
    "\n"
   ]
  },
  {
   "cell_type": "code",
   "execution_count": 3,
   "metadata": {},
   "outputs": [],
   "source": [
    "data = pd.read_csv('datos.csv',sep=\";\") #leo archivo"
   ]
  },
  {
   "cell_type": "code",
   "execution_count": 4,
   "metadata": {},
   "outputs": [],
   "source": [
    "data = (data - data.mean())/ data.std()    #normalizando los datos"
   ]
  },
  {
   "cell_type": "code",
   "execution_count": 5,
   "metadata": {},
   "outputs": [],
   "source": [
    "#separando los datos \n",
    "X = data.iloc[:,0:2]  #selecciono edad y temperatura\n",
    "ones = np.ones([X.shape[0],1]) #columnas de unos\n",
    "X = np.concatenate((ones,X),axis=1) #uno la matriz de unos con X\n",
    "\n",
    "y = data.iloc[:,2:3].values #variable dependiente\n",
    "theta = np.zeros([1,3])\n",
    "\n",
    "\n"
   ]
  },
  {
   "cell_type": "code",
   "execution_count": 6,
   "metadata": {},
   "outputs": [],
   "source": [
    "#separando datos por entrenamiento y test\n",
    "\n",
    "xtrain, xtest, ytrain, ytest = train_test_split(X, y, test_size=0.30)"
   ]
  },
  {
   "cell_type": "code",
   "execution_count": 7,
   "metadata": {},
   "outputs": [
    {
     "name": "stdout",
     "output_type": "stream",
     "text": [
      "[[ 1.94601280e-16  8.79067983e-01 -1.81108135e-01]]\n",
      "[[-0.0832807   0.83123059 -0.13509699]]\n",
      "[[ 0.13287471  1.01003084 -0.1933524 ]]\n",
      "\n",
      "costo sin entrenar:  0.110542547369046\n",
      "\n",
      "costo entrenamiento:  0.110542547369046\n",
      "\n",
      "costo test:  0.03357812194253625\n"
     ]
    }
   ],
   "source": [
    "alpha = 0.01\n",
    "iters = 1000\n",
    "\n",
    "\n",
    "g,costo = gradienteDescendente(X,y,theta,iters,alpha)\n",
    "print(g)\n",
    "\n",
    "g2,costo2 = gradienteDescendente(xtrain,ytrain,theta,iters,alpha)\n",
    "print(g2)\n",
    "\n",
    "g3,costo3 = gradienteDescendente(xtest,ytest,theta,iters,alpha)\n",
    "print(g3)\n",
    "\n",
    "\n",
    "costoTotal = fCosto(X,y,g) #costo total sin entrenar\n",
    "costoTotal2 = fCosto(xtrain,ytrain,g2)  #costo total entrenamiento\n",
    "costoTotal3 =  fCosto(xtest,ytest,g3)  #costo total entrenamiento\n",
    "\n",
    "\n",
    "print(\"\\ncosto sin entrenar: \",costoTotal2)\n",
    "print(\"\\ncosto entrenamiento: \",costoTotal2)\n",
    "print(\"\\ncosto test: \",costoTotal3)\n"
   ]
  },
  {
   "cell_type": "code",
   "execution_count": 13,
   "metadata": {},
   "outputs": [
    {
     "data": {
      "text/plain": [
       "Text(0.5, 1.0, 'Error vs. Training ')"
      ]
     },
     "execution_count": 13,
     "metadata": {},
     "output_type": "execute_result"
    },
    {
     "data": {
      "image/png": "[encoded data removed]",
      "text/plain": [
       "<Figure size 432x288 with 1 Axes>"
      ]
     },
     "metadata": {
      "needs_background": "light"
     },
     "output_type": "display_data"
    }
   ],
   "source": [
    "#Grafica de la funcion costo, como va cambiando con cada iteracion (sin entrentar)\n",
    "fig, ax = plt.subplots()  \n",
    "ax.plot(np.arange(iters), costo, 'r')  \n",
    "ax.set_xlabel('Iteracion')  \n",
    "ax.set_ylabel('Costo')  \n",
    "ax.set_title('Error vs. Training ')"
   ]
  },
  {
   "cell_type": "code",
   "execution_count": 14,
   "metadata": {},
   "outputs": [
    {
     "data": {
      "text/plain": [
       "Text(0.5, 1.0, 'Error vs. Training ')"
      ]
     },
     "execution_count": 14,
     "metadata": {},
     "output_type": "execute_result"
    },
    {
     "data": {
      "image/png": "[encoded data removed]",
      "text/plain": [
       "<Figure size 432x288 with 1 Axes>"
      ]
     },
     "metadata": {
      "needs_background": "light"
     },
     "output_type": "display_data"
    }
   ],
   "source": [
    "#Grafica de la funcion costo, como va cambiando con cada iteracion (entrenar)\n",
    "fig, ax = plt.subplots()  \n",
    "ax.plot(np.arange(iters), costo2, 'r')  \n",
    "ax.set_xlabel('Iteracion')  \n",
    "ax.set_ylabel('Costo')  \n",
    "ax.set_title('Error vs. Training ')"
   ]
  },
  {
   "cell_type": "code",
   "execution_count": 15,
   "metadata": {},
   "outputs": [
    {
     "data": {
      "text/plain": [
       "Text(0.5, 1.0, 'Error vs. Training ')"
      ]
     },
     "execution_count": 15,
     "metadata": {},
     "output_type": "execute_result"
    },
    {
     "data": {
      "image/png": "[encoded data removed]",
      "text/plain": [
       "<Figure size 432x288 with 1 Axes>"
      ]
     },
     "metadata": {
      "needs_background": "light"
     },
     "output_type": "display_data"
    }
   ],
   "source": [
    "#Grafica de la funcion costo, como va cambiando con cada iteracion (test)\n",
    "fig, ax = plt.subplots()  \n",
    "ax.plot(np.arange(iters), costo3, 'r')  \n",
    "ax.set_xlabel('Iteracion')  \n",
    "ax.set_ylabel('Costo')  \n",
    "ax.set_title('Error vs. Training ')"
   ]
  },
  {
   "cell_type": "markdown",
   "metadata": {},
   "source": [
    "## Error cuadratico medio"
   ]
  },
  {
   "cell_type": "code",
   "execution_count": 24,
   "metadata": {},
   "outputs": [
    {
     "name": "stdout",
     "output_type": "stream",
     "text": [
      "error cuadratico medio datos de entrenamiento 0.061484733086649264\n",
      "error cuadratico medio datos de entrenamiento 0.10794578682466204\n"
     ]
    }
   ],
   "source": [
    "error_train = error_cuadratico_medio(g,g2)   #g es gradiente 100%, g2 gradiente 70\n",
    "print(\"error cuadratico medio datos de entrenamiento\", error_train)\n",
    "\n",
    "error_test = error_cuadratico_medio(g,g3)    \n",
    "print(\"error cuadratico medio datos de entrenamiento\", error_test)"
   ]
  },
  {
   "cell_type": "markdown",
   "metadata": {},
   "source": [
    "# comparación"
   ]
  },
  {
   "cell_type": "code",
   "execution_count": 16,
   "metadata": {},
   "outputs": [
    {
     "name": "stdout",
     "output_type": "stream",
     "text": [
      "\n",
      "beta dio: [[ 2.09901541e-16]\n",
      " [ 8.79115728e-01]\n",
      " [-1.81117971e-01]] \n",
      "y el gradiente dio  [[ 1.94601280e-16  8.79067983e-01 -1.81108135e-01]]\n",
      "\n",
      "beta test dio: \t [[ 0.1318487 ]\n",
      " [ 1.01463225]\n",
      " [-0.19260924]] \n",
      "y el gradiente dio: \t [[-0.0832807   0.83123059 -0.13509699]]\n",
      "\n",
      "beta train dio: [[-0.08324207]\n",
      " [ 0.83125111]\n",
      " [-0.13513316]] y el gradiente dio: \t [[ 0.13287471  1.01003084 -0.1933524 ]]\n"
     ]
    }
   ],
   "source": [
    "#comparacion gradiente con con regresion con normal ecuaciones normales\n",
    "\n",
    "# minimos cuadrados (sin entrenar)\n",
    "\n",
    "B = np.linalg.inv(X.T @ X) @ X.T @ y\n",
    "\n",
    "print(\"\\nbeta dio:\",B, \"\\ny el gradiente dio \",g)\n",
    "\n",
    "\n",
    "#regresion lineal minimos cuadrados (entrenar)\n",
    "B2 = np.linalg.inv(xtest.T @ xtest) @ xtest.T @ ytest\n",
    "print(\"\\nbeta test dio: \\t\",B2, \"\\ny el gradiente dio: \\t\",g2)\n",
    "\n",
    "\n",
    "#regresion lineal minimos cuadrados (test)\n",
    "B3 = np.linalg.inv(xtrain.T @ xtrain) @ xtrain.T @ytrain\n",
    "print(\"\\nbeta train dio:\",B3, \"y el gradiente dio: \\t\",g3)\n",
    "\n",
    "\n",
    "\n"
   ]
  },
  {
   "cell_type": "code",
   "execution_count": null,
   "metadata": {},
   "outputs": [],
   "source": []
  },
  {
   "cell_type": "code",
   "execution_count": null,
   "metadata": {},
   "outputs": [],
   "source": [
    "\n"
   ]
  },
  {
   "cell_type": "code",
   "execution_count": null,
   "metadata": {},
   "outputs": [],
   "source": []
  },
  {
   "cell_type": "code",
   "execution_count": null,
   "metadata": {},
   "outputs": [],
   "source": []
  }
 ],
 "metadata": {
  "kernelspec": {
   "display_name": "Python 3",
   "language": "python",
   "name": "python3"
  },
  "language_info": {
   "codemirror_mode": {
    "name": "ipython",
    "version": 3
   },
   "file_extension": ".py",
   "mimetype": "text/x-python",
   "name": "python",
   "nbconvert_exporter": "python",
   "pygments_lexer": "ipython3",
   "version": "3.7.3"
  }
 },
 "nbformat": 4,
 "nbformat_minor": 2
}
