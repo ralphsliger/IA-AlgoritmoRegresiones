{
 "cells": [
  {
   "cell_type": "markdown",
   "metadata": {},
   "source": [
    "# REGRESION LOGISTICA - Ralph Sliger"
   ]
  },
  {
   "cell_type": "code",
   "execution_count": 1,
   "metadata": {},
   "outputs": [],
   "source": [
    "import numpy as np"
   ]
  },
  {
   "cell_type": "code",
   "execution_count": 2,
   "metadata": {},
   "outputs": [],
   "source": [
    "\n",
    "def sigmoid(z):\n",
    "    return 1 / (1 + np.exp(-z))\n",
    "                \n",
    "def Gradiente(x,y,t,alpha,iterations):\n",
    "     m=len(y)\n",
    "     for it in range(iterations):\n",
    "         temporal=np.copy(t)\n",
    "         z=np.dot(x,t)\n",
    "         h=sigmoid(z)\n",
    "         for j in range(t.shape[0]):\n",
    "             suma=0\n",
    "             for i in range(m):\n",
    "                 suma=(h[i][0]-y[i])*x[i][j]*(1/m)+suma\n",
    "             temporal[j]=t[j]-alpha*suma      \n",
    "         t=np.copy(temporal)\n",
    "     return t  \n",
    "\n",
    "\n",
    "def metricas(prediccion,Y):\n",
    "    TP = 0\n",
    "    FP = 0\n",
    "    TN = 0\n",
    "    FN = 0\n",
    "\n",
    "    for i in range(len(Y)):\n",
    "        if(int(prediccion[i]) == 1 & int(Y[i]) == 1):\n",
    "            TP += 1\n",
    "        elif(int(prediccion[i]) == 1 & int(Y[i]) == 0):\n",
    "            FP += 1\n",
    "        elif(int(prediccion[i]) == 0 & int(Y[i]) == 0):\n",
    "            TN += 1\n",
    "        else:\n",
    "            FN += 0\n",
    "    precision = TP / (TP + FP)\n",
    "    recall = TP / (TP + FN)\n",
    "    F1 = (2 * precision * recall) / (precision + recall)\n",
    "\n",
    "    resultados_final = [precision,recall,F1]\n",
    "    return resultados_final\n",
    "    \n",
    "\n",
    "\n",
    "\n"
   ]
  },
  {
   "cell_type": "code",
   "execution_count": 3,
   "metadata": {},
   "outputs": [],
   "source": [
    "#se cargan los datos\n",
    "data=np.loadtxt(\"grades_data.txt\",dtype=float,delimiter=\",\")"
   ]
  },
  {
   "cell_type": "code",
   "execution_count": 4,
   "metadata": {},
   "outputs": [],
   "source": [
    "\n",
    "\n",
    "# Se separan entre 70% datos\n",
    "p70=int(len(data)*0.7)\n",
    "train=data[:p70,:]\n",
    "test=data[p70:,:]\n",
    "\n",
    "#entrenamiento datos 70%\n",
    "x=np.copy(train[:,0:2])\n",
    "x=np.c_[np.ones(p70),x]  #columna de unos\n",
    "y=np.copy(train[:,2])\n",
    "t=np.ones((x.shape[1],1))\n",
    "\n",
    "#tests datos 30∞\n",
    "xt=np.copy(test[:,0:2])\n",
    "xt=np.c_[np.ones(len(test)),xt]\n",
    "yt=np.copy(test[:,2])"
   ]
  },
  {
   "cell_type": "code",
   "execution_count": 5,
   "metadata": {},
   "outputs": [],
   "source": [
    "#se hallan los tetas medianteGradiente \n",
    "alpha=0.005\n",
    "newTethas=Gradiente(x,y,t,alpha,50000)  #entrenamieto 70% datos\n"
   ]
  },
  {
   "cell_type": "code",
   "execution_count": 10,
   "metadata": {},
   "outputs": [
    {
     "name": "stdout",
     "output_type": "stream",
     "text": [
      "\n",
      "alpha:0.005\n",
      "\n",
      "Porcentaje aciertos:  48.0%\n",
      "\n",
      "Precisión:  0.7\n",
      "\n",
      "Recall:  1.0\n",
      "\n",
      "F1:  0.8235294117647058\n",
      "\n",
      " Predicciones\n",
      "[0.] [0.] [1.] [0.] [0.] [1.] [0.] [0.] [0.] [0.] [1.] [1.] [0.] [0.] [1.] [1.] [0.] [1.] [1.] [0.] [1.] [1.] [0.] [1.] [1.] [0.] [0.] [1.] [0.] [1.] "
     ]
    }
   ],
   "source": [
    "#Prediciones\n",
    "zt=np.dot(xt,newTethas)\n",
    "probabilidades=sigmoid(zt)\n",
    "\n",
    "\n",
    "#se convierte probabilidades a binarios\n",
    "predicciones=np.copy(probabilidades)\n",
    "\n",
    "for i in range(len(probabilidades)): predicciones[i]=0 if (probabilidades[i]<=0.5) else 1\n",
    "\n",
    "print(\"\\nalpha:\"+str(alpha))\n",
    "\n",
    "print(\"\\nPorcentaje aciertos: \",str((predicciones==yt).mean()*100)+\"%\") #Porcentaje de acierto porcentaje de aciertos que se obtuvo\n",
    "\n",
    "met = metricas(predicciones,yt)\n",
    "\n",
    "print(\"\\nPrecisión: \", met[0])\n",
    "\n",
    "print(\"\\nRecall: \", met[1])\n",
    "\n",
    "print(\"\\nF1: \", met[2])\n",
    "\n",
    "print(\"\\n Predicciones\")\n",
    "for x in predicciones:\n",
    "    print(x, end=' ')\n",
    "\n",
    "\n",
    "\n",
    "\n",
    "\n",
    "\n"
   ]
  },
  {
   "cell_type": "code",
   "execution_count": 16,
   "metadata": {},
   "outputs": [
    {
     "name": "stdout",
     "output_type": "stream",
     "text": [
      "#########################################\n",
      "#########################################\n",
      "\t   CONFUSION MATRIX\n",
      "         Negative     Positive\n",
      "Negative   10           6\n",
      "Positive   0           14\n",
      "#########################################\n",
      "#########################################\n"
     ]
    }
   ],
   "source": [
    "#Matriz confusion\n",
    "\n",
    "TP = 0\n",
    "FP = 0\n",
    "TN = 0\n",
    "FN = 0\n",
    "\n",
    "for i in range(len(yt)):\n",
    "    if(int(predicciones[i]) == 1 & int(yt[i]) == 1):\n",
    "        TP += 1\n",
    "    elif(int(predicciones[i]) == 1 & int(yt[i]) == 0):\n",
    "        FP += 1\n",
    "    elif(int(predicciones[i]) == 0 & int(yt[i]) == 0):\n",
    "        TN += 1\n",
    "    else:\n",
    "        FN += 0\n",
    "\n",
    "\n",
    "    \n",
    "print(\"#########################################\")\n",
    "print(\"#########################################\")\n",
    "print(\"\\t   CONFUSION MATRIX\")\n",
    "print(\"         Negative     Positive\")\n",
    "print(\"Negative   {0}           {1}\".format(TN,FP))\n",
    "print(\"Positive   {0}           {1}\".format(FN,TP))\n",
    "print(\"#########################################\")\n",
    "print(\"#########################################\")\n"
   ]
  },
  {
   "cell_type": "code",
   "execution_count": null,
   "metadata": {},
   "outputs": [],
   "source": []
  }
 ],
 "metadata": {
  "kernelspec": {
   "display_name": "Python 3",
   "language": "python",
   "name": "python3"
  },
  "language_info": {
   "codemirror_mode": {
    "name": "ipython",
    "version": 3
   },
   "file_extension": ".py",
   "mimetype": "text/x-python",
   "name": "python",
   "nbconvert_exporter": "python",
   "pygments_lexer": "ipython3",
   "version": "3.7.3"
  }
 },
 "nbformat": 4,
 "nbformat_minor": 2
}
