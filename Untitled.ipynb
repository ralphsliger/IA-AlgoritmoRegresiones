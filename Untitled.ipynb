{
 "cells": [
  {
   "cell_type": "code",
   "execution_count": 1,
   "metadata": {},
   "outputs": [],
   "source": [
    "import numpy as np"
   ]
  },
  {
   "cell_type": "code",
   "execution_count": 2,
   "metadata": {},
   "outputs": [],
   "source": [
    "def sigmoide(beta, X):     \n",
    "    return 1.0/(1 + np.exp(-np.dot(X, beta.T))) \n",
    "\n",
    "\n",
    "def costo(beta, X, y): \n",
    "    \n",
    "    log_func_v = sigmoide(beta, X) \n",
    "    y = np.squeeze(y)     \n",
    "    final = -(y * np.log(log_func_v) ) - ((1 - y) * np.log(1 - log_func_v)) \n",
    "    return np.mean(final) \n",
    "  \n",
    "  \n",
    "def gradiente(beta, X, y):     \n",
    "    grad_inic = sigmoide(beta, X) - y.reshape(X.shape[0], -1) \n",
    "    grad = np.dot(grad_inic.T, X) \n",
    "    return grad \n",
    "  \n",
    "  \n",
    "def gradienteDescendente(X, y, alpha ): \n",
    "    \n",
    "    Costo = costo(beta, X, y) \n",
    "    CostoActual = 1\n",
    "    \n",
    "    cambioConvergencia = 0.001\n",
    "      \n",
    "    while(CostoActual > cambioConvergencia): \n",
    "        CostoAnt = Costo \n",
    "        beta = beta - (alpha * gradiente(beta, X, y)) \n",
    "        Costo = costo(beta, X, y) \n",
    "        CostoActual = CostoAnt - Costo        \n",
    "      \n",
    "    return beta  \n",
    "  \n",
    "  \n",
    "def predecir(beta, X):     \n",
    "    probabilidad = sigmoide(beta, X) \n",
    "    resultado = np.where(probabilidad >= .5, 1, 0) \n",
    "    return np.squeeze(resultado)\n",
    "\n",
    "\n",
    "def normalizar(X):     \n",
    "    minimo = np.min(X, axis = 0) \n",
    "    maximo = np.max(X, axis = 0) \n",
    "    aleat = maximo - minimo \n",
    "    Xnorm = 1 - ((maximo - X)/aleat) \n",
    "    return Xnorm  \n",
    "\n",
    "\n",
    "def comparar(prediccion,Y):\n",
    "    TP = 0\n",
    "    FP = 0\n",
    "    TN = 0\n",
    "    FN = 0\n",
    "\n",
    "    for i in range(len(Y)):\n",
    "        if(int(prediccion[i]) == 1 & int(Y[i]) == 1):\n",
    "            TP += 1\n",
    "        elif(int(prediccion[i]) == 1 & int(Y[i]) == 0):\n",
    "            FP += 1\n",
    "        elif(int(prediccion[i]) == 0 & int(Y[i]) == 0):\n",
    "            TN += 1\n",
    "        else:\n",
    "            FN += 0\n",
    "    precision = TP / (TP + FP)\n",
    "    recall = TP / (TP + FN)\n",
    "    F1 = (2 * precision * recall) / (precision + recall)\n",
    "\n",
    "    resultados_final = [precision,recall,F1]\n",
    "    return resultados_final"
   ]
  },
  {
   "cell_type": "code",
   "execution_count": 3,
   "metadata": {},
   "outputs": [],
   "source": [
    "#se cargan los datos\n",
    "data=np.loadtxt(\"grades_data.txt\",dtype=float,delimiter=\",\")\n"
   ]
  },
  {
   "cell_type": "code",
   "execution_count": 4,
   "metadata": {},
   "outputs": [],
   "source": [
    "# Se separan entre 70% datos\n",
    "p70=int(len(data)*0.7)\n",
    "train=data[:p70,:]\n",
    "test=data[p70:,:]\n",
    "\n",
    "#entrenamiento datos 70%\n",
    "x=np.copy(train[:,0:2])\n",
    "x=np.c_[np.ones(p70),x]  #columna de unos\n",
    "y=np.copy(train[:,2])\n",
    "t=np.ones((x.shape[1],1))\n",
    "\n",
    "#tests datos 30∞\n",
    "xt=np.copy(test[:,0:2])\n",
    "xt=np.c_[np.ones(len(test)),xt]\n",
    "yt=np.copy(test[:,2])\n"
   ]
  },
  {
   "cell_type": "code",
   "execution_count": 5,
   "metadata": {},
   "outputs": [
    {
     "ename": "UnboundLocalError",
     "evalue": "local variable 'beta' referenced before assignment",
     "output_type": "error",
     "traceback": [
      "\u001b[0;31m---------------------------------------------------------------------------\u001b[0m",
      "\u001b[0;31mUnboundLocalError\u001b[0m                         Traceback (most recent call last)",
      "\u001b[0;32m<ipython-input-5-ee66c359d77c>\u001b[0m in \u001b[0;36m<module>\u001b[0;34m\u001b[0m\n\u001b[1;32m      1\u001b[0m \u001b[0malpha\u001b[0m \u001b[0;34m=\u001b[0m \u001b[0;36m0.01\u001b[0m\u001b[0;34m\u001b[0m\u001b[0;34m\u001b[0m\u001b[0m\n\u001b[0;32m----> 2\u001b[0;31m \u001b[0mtheta\u001b[0m \u001b[0;34m=\u001b[0m \u001b[0mgradienteDescendente\u001b[0m\u001b[0;34m(\u001b[0m\u001b[0mx\u001b[0m\u001b[0;34m,\u001b[0m\u001b[0my\u001b[0m\u001b[0;34m,\u001b[0m\u001b[0malpha\u001b[0m\u001b[0;34m)\u001b[0m \u001b[0;31m#entrenamiento con 70% de los datos\u001b[0m\u001b[0;34m\u001b[0m\u001b[0;34m\u001b[0m\u001b[0m\n\u001b[0m\u001b[1;32m      3\u001b[0m \u001b[0mprint\u001b[0m\u001b[0;34m(\u001b[0m\u001b[0;34m\"Coeficientes theta:\"\u001b[0m\u001b[0;34m,\u001b[0m \u001b[0mtheta\u001b[0m\u001b[0;34m)\u001b[0m\u001b[0;34m\u001b[0m\u001b[0;34m\u001b[0m\u001b[0m\n\u001b[1;32m      4\u001b[0m \u001b[0;34m\u001b[0m\u001b[0m\n\u001b[1;32m      5\u001b[0m \u001b[0;34m\u001b[0m\u001b[0m\n",
      "\u001b[0;32m<ipython-input-2-6b6433780b88>\u001b[0m in \u001b[0;36mgradienteDescendente\u001b[0;34m(X, y, alpha)\u001b[0m\n\u001b[1;32m     19\u001b[0m \u001b[0;32mdef\u001b[0m \u001b[0mgradienteDescendente\u001b[0m\u001b[0;34m(\u001b[0m\u001b[0mX\u001b[0m\u001b[0;34m,\u001b[0m \u001b[0my\u001b[0m\u001b[0;34m,\u001b[0m \u001b[0malpha\u001b[0m \u001b[0;34m)\u001b[0m\u001b[0;34m:\u001b[0m\u001b[0;34m\u001b[0m\u001b[0;34m\u001b[0m\u001b[0m\n\u001b[1;32m     20\u001b[0m \u001b[0;34m\u001b[0m\u001b[0m\n\u001b[0;32m---> 21\u001b[0;31m     \u001b[0mCosto\u001b[0m \u001b[0;34m=\u001b[0m \u001b[0mcosto\u001b[0m\u001b[0;34m(\u001b[0m\u001b[0mbeta\u001b[0m\u001b[0;34m,\u001b[0m \u001b[0mX\u001b[0m\u001b[0;34m,\u001b[0m \u001b[0my\u001b[0m\u001b[0;34m)\u001b[0m\u001b[0;34m\u001b[0m\u001b[0;34m\u001b[0m\u001b[0m\n\u001b[0m\u001b[1;32m     22\u001b[0m     \u001b[0mCostoActual\u001b[0m \u001b[0;34m=\u001b[0m \u001b[0;36m1\u001b[0m\u001b[0;34m\u001b[0m\u001b[0;34m\u001b[0m\u001b[0m\n\u001b[1;32m     23\u001b[0m \u001b[0;34m\u001b[0m\u001b[0m\n",
      "\u001b[0;31mUnboundLocalError\u001b[0m: local variable 'beta' referenced before assignment"
     ]
    }
   ],
   "source": [
    "alpha = 0.01\n",
    "theta = gradienteDescendente(x,y,alpha) #entrenamiento con 70% de los datos\n",
    "print(\"Coeficientes theta:\", theta) \n",
    "  \n",
    "   \n",
    "prediccion = predecir(theta, xt) #se predice con el otro 30% de los datos\n",
    "\n",
    "resultados = []\n",
    "resultados = comparar(prediccion,yt)\n",
    "     \n",
    "print(\"Valores de prueba (30%): \", yt)\n",
    "print(\"Valores predecidos: \", prediccion)\n",
    "print(\"Precisión: \", resultados[0])\n",
    "print(\"Recall: \", resultados[1])\n",
    "print(\"F1: \", resultados[2])"
   ]
  },
  {
   "cell_type": "code",
   "execution_count": null,
   "metadata": {},
   "outputs": [],
   "source": []
  }
 ],
 "metadata": {
  "kernelspec": {
   "display_name": "Python 3",
   "language": "python",
   "name": "python3"
  },
  "language_info": {
   "codemirror_mode": {
    "name": "ipython",
    "version": 3
   },
   "file_extension": ".py",
   "mimetype": "text/x-python",
   "name": "python",
   "nbconvert_exporter": "python",
   "pygments_lexer": "ipython3",
   "version": "3.7.3"
  }
 },
 "nbformat": 4,
 "nbformat_minor": 2
}
